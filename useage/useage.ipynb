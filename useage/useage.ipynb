{
 "cells": [
  {
   "cell_type": "markdown",
   "metadata": {},
   "source": [
    "# Reading Images for Testing"
   ]
  },
  {
   "cell_type": "code",
   "execution_count": null,
   "metadata": {},
   "outputs": [],
   "source": [
    "import cv2\n",
    "from matplotlib import pyplot as plt\n",
    "img_path=\"./images/test.png\"\n",
    "bn_crop=cv2.imread(\"./images/2.png\")\n",
    "en_crop=cv2.imread(\"./images/1.png\")\n",
    "img=cv2.imread(img_path)\n",
    "plt.imshow(bn_crop)\n",
    "plt.show()\n",
    "plt.imshow(en_crop)\n",
    "plt.show()\n",
    "plt.imshow(img)\n",
    "plt.show()\n"
   ]
  },
  {
   "cell_type": "markdown",
   "metadata": {},
   "source": [
    "# Bangla Recognition"
   ]
  },
  {
   "cell_type": "code",
   "execution_count": null,
   "metadata": {},
   "outputs": [],
   "source": [
    "crops=[bn_crop]\n"
   ]
  },
  {
   "cell_type": "code",
   "execution_count": null,
   "metadata": {},
   "outputs": [],
   "source": [
    "from apsisocr import ApsisNet\n",
    "bnocr=ApsisNet()\n",
    "bnocr.infer(crops)"
   ]
  },
  {
   "cell_type": "markdown",
   "metadata": {},
   "source": [
    "# English Recognition"
   ]
  },
  {
   "cell_type": "code",
   "execution_count": null,
   "metadata": {},
   "outputs": [],
   "source": [
    "crops=[en_crop]"
   ]
  },
  {
   "cell_type": "code",
   "execution_count": null,
   "metadata": {},
   "outputs": [],
   "source": [
    "from apsisocr import SVTRLCNet\n",
    "enocr=SVTRLCNet()\n",
    "enocr.infer(crops)"
   ]
  },
  {
   "cell_type": "markdown",
   "metadata": {},
   "source": [
    "# Language classification"
   ]
  },
  {
   "cell_type": "code",
   "execution_count": null,
   "metadata": {},
   "outputs": [],
   "source": [
    "crops=[bn_crop,en_crop]"
   ]
  },
  {
   "cell_type": "code",
   "execution_count": null,
   "metadata": {},
   "outputs": [],
   "source": [
    "from apsisocr import DenseNet121BnEnClassifier\n",
    "lang=DenseNet121BnEnClassifier()\n",
    "lang.infer(crops)"
   ]
  },
  {
   "cell_type": "markdown",
   "metadata": {},
   "source": [
    "# Overall System"
   ]
  },
  {
   "cell_type": "code",
   "execution_count": null,
   "metadata": {},
   "outputs": [],
   "source": [
    "img_path=\"./images/test.png\""
   ]
  },
  {
   "cell_type": "code",
   "execution_count": null,
   "metadata": {},
   "outputs": [],
   "source": [
    "from apsisocr import ApsisOCR\n",
    "ocr=ApsisOCR()\n",
    "results=ocr(img_path)"
   ]
  },
  {
   "cell_type": "code",
   "execution_count": null,
   "metadata": {},
   "outputs": [],
   "source": [
    "from pprint import pprint\n",
    "pprint(results)"
   ]
  },
  {
   "cell_type": "code",
   "execution_count": null,
   "metadata": {},
   "outputs": [],
   "source": [
    "results.keys()"
   ]
  },
  {
   "cell_type": "code",
   "execution_count": null,
   "metadata": {},
   "outputs": [],
   "source": [
    "results['text']"
   ]
  },
  {
   "cell_type": "code",
   "execution_count": null,
   "metadata": {},
   "outputs": [],
   "source": [
    "results[\"result\"][0]"
   ]
  },
  {
   "cell_type": "markdown",
   "metadata": {},
   "source": [
    "# Base System"
   ]
  },
  {
   "cell_type": "code",
   "execution_count": null,
   "metadata": {},
   "outputs": [],
   "source": [
    "import cv2\n",
    "from matplotlib import pyplot as plt\n",
    "img_path=\"./images/test.png\"\n",
    "img=cv2.imread(img_path)\n",
    "plt.imshow(img)\n",
    "plt.show()"
   ]
  },
  {
   "cell_type": "code",
   "execution_count": null,
   "metadata": {},
   "outputs": [],
   "source": [
    "from apsisocr import BaseOCR\n",
    "ocr=BaseOCR()\n",
    "results=ocr(img_path)"
   ]
  },
  {
   "cell_type": "code",
   "execution_count": null,
   "metadata": {},
   "outputs": [],
   "source": [
    "results"
   ]
  },
  {
   "cell_type": "markdown",
   "metadata": {},
   "source": [
    "# ApsisBNOCR"
   ]
  },
  {
   "cell_type": "code",
   "execution_count": 1,
   "metadata": {},
   "outputs": [
    {
     "name": "stderr",
     "output_type": "stream",
     "text": [
      "WARNING:root:The installed fastdeploy-python package is not built with GPU, will force to use CPU. To use GPU, following the commands to install fastdeploy-gpu-python.\n",
      "WARNING:root:    ================= Install GPU FastDeploy===============\n",
      "WARNING:root:    python -m pip uninstall fastdeploy-python\n",
      "WARNING:root:    python -m pip install fastdeploy-gpu-python -f https://www.paddlepaddle.org.cn/whl/fastdeploy.html\n"
     ]
    },
    {
     "name": "stdout",
     "output_type": "stream",
     "text": [
      "\u001b[32m#LOG     :\u001b[0m\u001b[34mLoaded Bangla Model\u001b[0m\n",
      "[INFO] fastdeploy/runtime/runtime.cc(273)::CreatePaddleBackend\tRuntime initialized with Backend::PDINFER in Device::CPU.\n",
      "\u001b[32m#LOG     :\u001b[0m\u001b[34mLoaded Paddle detector\u001b[0m\n"
     ]
    },
    {
     "name": "stderr",
     "output_type": "stream",
     "text": [
      "WARNING: Logging before InitGoogleLogging() is written to STDERR\n",
      "W0501 00:56:40.300997 354215 analysis_config.cc:971] It is detected that mkldnn and memory_optimize_pass are enabled at the same time, but they are not supported yet. Currently, memory_optimize_pass is explicitly disabled\n"
     ]
    },
    {
     "name": "stdout",
     "output_type": "stream",
     "text": [
      "[INFO] fastdeploy/runtime/runtime.cc(273)::CreatePaddleBackend\tRuntime initialized with Backend::PDINFER in Device::CPU.\n"
     ]
    }
   ],
   "source": [
    "from apsisocr import ApsisBNOCR\n",
    "ocr=ApsisBNOCR()"
   ]
  },
  {
   "cell_type": "code",
   "execution_count": 2,
   "metadata": {},
   "outputs": [],
   "source": [
    "from pprint import pprint\n",
    "res=ocr(\"/home/ansary/WORK/apsis/apsisOCR/useage/images/test.png\")"
   ]
  },
  {
   "cell_type": "code",
   "execution_count": 3,
   "metadata": {},
   "outputs": [
    {
     "name": "stdout",
     "output_type": "stream",
     "text": [
      " আমি ওর কথা শুনি না। দুটো লোকাল\n",
      " ট্রেন ছেড়ে দিই। তখন আলো জ্বলে\n",
      " গেছে স্টেশনে। দূর থেকে দেখতে\n",
      " পাওয়া বাড়িগুলোতেও সন্ধের আলো।\n",
      " আর সত্যিই স্টেশন শুনশান প্রায়।\n",
      " আমি আর হরিচরণ অপেক্ষা করি।\n",
      " পালাতে পারি না ওকে। ফেলে। ডাক্তার\n",
      " আমাকে বলেছিল, আপনি আপনার\n",
      " ভাইকে খুঁজছেন, সেটা আপনার মনের\n",
      " ভুল। কিন্তু আমি তো এবার আমার\n",
      " ভাইকে খুঁজছিলাম না। আমার ভাই-ই\n",
      " যদি আমাকে খুঁজে নেয় আমি কী করব\n",
      " বলুন ডাক্তারবাবু!\n"
     ]
    }
   ],
   "source": [
    "print(res[\"text\"])"
   ]
  },
  {
   "cell_type": "code",
   "execution_count": null,
   "metadata": {},
   "outputs": [],
   "source": []
  }
 ],
 "metadata": {
  "kernelspec": {
   "display_name": "apsisocr",
   "language": "python",
   "name": "python3"
  },
  "language_info": {
   "codemirror_mode": {
    "name": "ipython",
    "version": 3
   },
   "file_extension": ".py",
   "mimetype": "text/x-python",
   "name": "python",
   "nbconvert_exporter": "python",
   "pygments_lexer": "ipython3",
   "version": "3.9.18"
  },
  "orig_nbformat": 4
 },
 "nbformat": 4,
 "nbformat_minor": 2
}
