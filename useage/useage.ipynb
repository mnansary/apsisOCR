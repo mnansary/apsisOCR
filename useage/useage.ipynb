{
 "cells": [
  {
   "cell_type": "markdown",
   "metadata": {},
   "source": [
    "# Reading Images for Testing"
   ]
  },
  {
   "cell_type": "code",
   "execution_count": null,
   "metadata": {},
   "outputs": [],
   "source": [
    "import cv2\n",
    "from matplotlib import pyplot as plt\n",
    "img_path=\"./images/test.png\"\n",
    "bn_crop=cv2.imread(\"./images/2.png\")\n",
    "en_crop=cv2.imread(\"./images/1.png\")\n",
    "img=cv2.imread(img_path)\n",
    "plt.imshow(bn_crop)\n",
    "plt.show()\n",
    "plt.imshow(en_crop)\n",
    "plt.show()\n",
    "plt.imshow(img)\n",
    "plt.show()\n"
   ]
  },
  {
   "cell_type": "markdown",
   "metadata": {},
   "source": [
    "# Bangla Recognition"
   ]
  },
  {
   "cell_type": "code",
   "execution_count": null,
   "metadata": {},
   "outputs": [],
   "source": [
    "crops=[bn_crop]\n"
   ]
  },
  {
   "cell_type": "code",
   "execution_count": null,
   "metadata": {},
   "outputs": [],
   "source": [
    "from apsisocr import ApsisNet\n",
    "bnocr=ApsisNet()\n",
    "bnocr.infer(crops)"
   ]
  },
  {
   "cell_type": "markdown",
   "metadata": {},
   "source": [
    "# English Recognition"
   ]
  },
  {
   "cell_type": "code",
   "execution_count": null,
   "metadata": {},
   "outputs": [],
   "source": [
    "crops=[en_crop]"
   ]
  },
  {
   "cell_type": "code",
   "execution_count": null,
   "metadata": {},
   "outputs": [],
   "source": [
    "from apsisocr import SVTRLCNet\n",
    "enocr=SVTRLCNet()\n",
    "enocr.infer(crops)"
   ]
  },
  {
   "cell_type": "markdown",
   "metadata": {},
   "source": [
    "# Language classification"
   ]
  },
  {
   "cell_type": "code",
   "execution_count": null,
   "metadata": {},
   "outputs": [],
   "source": [
    "crops=[bn_crop,en_crop]"
   ]
  },
  {
   "cell_type": "code",
   "execution_count": null,
   "metadata": {},
   "outputs": [],
   "source": [
    "from apsisocr import DenseNet121BnEnClassifier\n",
    "lang=DenseNet121BnEnClassifier()\n",
    "lang.infer(crops)"
   ]
  },
  {
   "cell_type": "markdown",
   "metadata": {},
   "source": [
    "# Overall System"
   ]
  },
  {
   "cell_type": "code",
   "execution_count": null,
   "metadata": {},
   "outputs": [],
   "source": [
    "img_path=\"./images/test.png\""
   ]
  },
  {
   "cell_type": "code",
   "execution_count": null,
   "metadata": {},
   "outputs": [],
   "source": [
    "from apsisocr import ApsisOCR\n",
    "ocr=ApsisOCR()\n",
    "results=ocr(img_path)"
   ]
  },
  {
   "cell_type": "code",
   "execution_count": null,
   "metadata": {},
   "outputs": [],
   "source": [
    "from pprint import pprint\n",
    "pprint(results)"
   ]
  },
  {
   "cell_type": "code",
   "execution_count": null,
   "metadata": {},
   "outputs": [],
   "source": [
    "results.keys()"
   ]
  },
  {
   "cell_type": "code",
   "execution_count": null,
   "metadata": {},
   "outputs": [],
   "source": [
    "results['text']"
   ]
  },
  {
   "cell_type": "code",
   "execution_count": null,
   "metadata": {},
   "outputs": [],
   "source": [
    "results[\"result\"][0]"
   ]
  },
  {
   "cell_type": "markdown",
   "metadata": {},
   "source": [
    "# Base System"
   ]
  },
  {
   "cell_type": "code",
   "execution_count": null,
   "metadata": {},
   "outputs": [],
   "source": [
    "import cv2\n",
    "from matplotlib import pyplot as plt\n",
    "img_path=\"./images/test.png\"\n",
    "img=cv2.imread(img_path)\n",
    "plt.imshow(img)\n",
    "plt.show()"
   ]
  },
  {
   "cell_type": "code",
   "execution_count": null,
   "metadata": {},
   "outputs": [],
   "source": [
    "from apsisocr import BaseOCR\n",
    "ocr=BaseOCR()\n",
    "results=ocr(img_path)"
   ]
  },
  {
   "cell_type": "code",
   "execution_count": null,
   "metadata": {},
   "outputs": [],
   "source": [
    "results"
   ]
  },
  {
   "cell_type": "markdown",
   "metadata": {},
   "source": [
    "# ApsisBNOCR"
   ]
  },
  {
   "cell_type": "code",
   "execution_count": 1,
   "metadata": {},
   "outputs": [
    {
     "name": "stderr",
     "output_type": "stream",
     "text": [
      "WARNING:root:The installed fastdeploy-python package is not built with GPU, will force to use CPU. To use GPU, following the commands to install fastdeploy-gpu-python.\n",
      "WARNING:root:    ================= Install GPU FastDeploy===============\n",
      "WARNING:root:    python -m pip uninstall fastdeploy-python\n",
      "WARNING:root:    python -m pip install fastdeploy-gpu-python -f https://www.paddlepaddle.org.cn/whl/fastdeploy.html\n"
     ]
    },
    {
     "name": "stdout",
     "output_type": "stream",
     "text": [
      "\u001b[32m#LOG     :\u001b[0m\u001b[34mLoaded Bangla Model\u001b[0m\n",
      "[INFO] fastdeploy/runtime/runtime.cc(273)::CreatePaddleBackend\tRuntime initialized with Backend::PDINFER in Device::CPU.\n",
      "\u001b[32m#LOG     :\u001b[0m\u001b[34mLoaded Paddle detector\u001b[0m\n"
     ]
    },
    {
     "name": "stderr",
     "output_type": "stream",
     "text": [
      "WARNING: Logging before InitGoogleLogging() is written to STDERR\n",
      "W0501 00:56:40.300997 354215 analysis_config.cc:971] It is detected that mkldnn and memory_optimize_pass are enabled at the same time, but they are not supported yet. Currently, memory_optimize_pass is explicitly disabled\n"
     ]
    },
    {
     "name": "stdout",
     "output_type": "stream",
     "text": [
      "[INFO] fastdeploy/runtime/runtime.cc(273)::CreatePaddleBackend\tRuntime initialized with Backend::PDINFER in Device::CPU.\n"
     ]
    }
   ],
   "source": [
    "from apsisocr import ApsisBNOCR\n",
    "ocr=ApsisBNOCR()"
   ]
  },
  {
   "cell_type": "code",
   "execution_count": 2,
   "metadata": {},
   "outputs": [],
   "source": [
    "from pprint import pprint\n",
    "res=ocr(\"/home/ansary/WORK/apsis/apsisOCR/useage/images/test.png\")"
   ]
  },
  {
   "cell_type": "code",
   "execution_count": 3,
   "metadata": {},
   "outputs": [
    {
     "name": "stdout",
     "output_type": "stream",
     "text": [
      " আমি ওর কথা শুনি না। দুটো লোকাল\n",
      " ট্রেন ছেড়ে দিই। তখন আলো জ্বলে\n",
      " গেছে স্টেশনে। দূর থেকে দেখতে\n",
      " পাওয়া বাড়িগুলোতেও সন্ধের আলো।\n",
      " আর সত্যিই স্টেশন শুনশান প্রায়।\n",
      " আমি আর হরিচরণ অপেক্ষা করি।\n",
      " পালাতে পারি না ওকে। ফেলে। ডাক্তার\n",
      " আমাকে বলেছিল, আপনি আপনার\n",
      " ভাইকে খুঁজছেন, সেটা আপনার মনের\n",
      " ভুল। কিন্তু আমি তো এবার আমার\n",
      " ভাইকে খুঁজছিলাম না। আমার ভাই-ই\n",
      " যদি আমাকে খুঁজে নেয় আমি কী করব\n",
      " বলুন ডাক্তারবাবু!\n"
     ]
    }
   ],
   "source": [
    "print(res[\"text\"])"
   ]
  },
  {
   "cell_type": "markdown",
   "metadata": {},
   "source": [
    "# ApsisBNBaseOCR"
   ]
  },
  {
   "cell_type": "code",
   "execution_count": 2,
   "metadata": {},
   "outputs": [
    {
     "name": "stderr",
     "output_type": "stream",
     "text": [
      "WARNING:root:The installed fastdeploy-python package is not built with GPU, will force to use CPU. To use GPU, following the commands to install fastdeploy-gpu-python.\n",
      "WARNING:root:    ================= Install GPU FastDeploy===============\n",
      "WARNING:root:    python -m pip uninstall fastdeploy-python\n",
      "WARNING:root:    python -m pip install fastdeploy-gpu-python -f https://www.paddlepaddle.org.cn/whl/fastdeploy.html\n"
     ]
    },
    {
     "name": "stdout",
     "output_type": "stream",
     "text": [
      "\u001b[32m#LOG     :\u001b[0m\u001b[34mLoaded Bangla Model\u001b[0m\n",
      "[INFO] fastdeploy/runtime/runtime.cc(273)::CreatePaddleBackend\tRuntime initialized with Backend::PDINFER in Device::CPU.\n",
      "[INFO] fastdeploy/runtime/runtime.cc(273)::CreatePaddleBackend\tRuntime initialized with Backend::PDINFER in Device::CPU.\n",
      "\u001b[32m#LOG     :\u001b[0m\u001b[34mLoaded Paddle detector\u001b[0m\n"
     ]
    },
    {
     "name": "stderr",
     "output_type": "stream",
     "text": [
      "WARNING: Logging before InitGoogleLogging() is written to STDERR\n",
      "W1122 05:22:05.608763 267699 analysis_config.cc:971] It is detected that mkldnn and memory_optimize_pass are enabled at the same time, but they are not supported yet. Currently, memory_optimize_pass is explicitly disabled\n"
     ]
    }
   ],
   "source": [
    "from apsisocr import ApsisBNBaseOCR\n",
    "ocr=ApsisBNBaseOCR()"
   ]
  },
  {
   "cell_type": "code",
   "execution_count": 3,
   "metadata": {},
   "outputs": [],
   "source": [
    "from pprint import pprint\n",
    "res=ocr(\"/home/ansary/WORK/apsis/apsisOCR/useage/images/test.png\")"
   ]
  },
  {
   "cell_type": "code",
   "execution_count": 4,
   "metadata": {},
   "outputs": [
    {
     "data": {
      "text/plain": [
       "[{'poly': [[54.0, 291.0], [148.0, 295.0], [147.0, 316.0], [53.0, 312.0]],\n",
       "  'text': 'ডাক্তারবাবু!'},\n",
       " {'poly': [[10.0, 295.0], [51.0, 297.0], [50.0, 315.0], [9.0, 313.0]],\n",
       "  'text': 'বলুন'},\n",
       " {'poly': [[270.0, 273.0], [310.0, 273.0], [310.0, 287.0], [270.0, 287.0]],\n",
       "  'text': 'করব'},\n",
       " {'poly': [[160.0, 273.0], [193.0, 273.0], [193.0, 287.0], [160.0, 287.0]],\n",
       "  'text': 'নেয়'},\n",
       " {'poly': [[115.0, 270.0], [157.0, 270.0], [157.0, 292.0], [115.0, 292.0]],\n",
       "  'text': 'খুঁজে'},\n",
       " {'poly': [[45.0, 271.0], [111.0, 271.0], [111.0, 289.0], [45.0, 289.0]],\n",
       "  'text': 'আমাকে'},\n",
       " {'poly': [[242.0, 270.0], [266.0, 270.0], [266.0, 286.0], [242.0, 286.0]],\n",
       "  'text': 'কী'},\n",
       " {'poly': [[194.0, 270.0], [238.0, 268.0], [239.0, 286.0], [195.0, 288.0]],\n",
       "  'text': 'আমি'},\n",
       " {'poly': [[11.0, 269.0], [43.0, 269.0], [43.0, 288.0], [11.0, 288.0]],\n",
       "  'text': 'যদি'},\n",
       " {'poly': [[188.0, 248.0], [243.0, 248.0], [243.0, 265.0], [188.0, 265.0]],\n",
       "  'text': 'আমার'},\n",
       " {'poly': [[158.0, 249.0], [183.0, 249.0], [183.0, 264.0], [158.0, 264.0]],\n",
       "  'text': 'না।'},\n",
       " {'poly': [[70.0, 244.0], [156.0, 244.0], [156.0, 269.0], [70.0, 269.0]],\n",
       "  'text': 'খুঁজছিলাম'},\n",
       " {'poly': [[11.0, 244.0], [67.0, 246.0], [66.0, 267.0], [10.0, 265.0]],\n",
       "  'text': 'ভাইকে'},\n",
       " {'poly': [[246.0, 244.0], [299.0, 244.0], [299.0, 266.0], [246.0, 266.0]],\n",
       "  'text': 'ভাই-ই'},\n",
       " {'poly': [[219.0, 224.0], [274.0, 224.0], [274.0, 241.0], [219.0, 241.0]],\n",
       "  'text': 'আমার'},\n",
       " {'poly': [[171.0, 225.0], [216.0, 225.0], [216.0, 240.0], [171.0, 240.0]],\n",
       "  'text': 'এবার'},\n",
       " {'poly': [[139.0, 224.0], [165.0, 224.0], [165.0, 240.0], [139.0, 240.0]],\n",
       "  'text': 'তো'},\n",
       " {'poly': [[10.0, 225.0], [47.0, 221.0], [49.0, 242.0], [12.0, 245.0]],\n",
       "  'text': 'ভুল।'},\n",
       " {'poly': [[89.0, 222.0], [133.0, 220.0], [134.0, 239.0], [90.0, 241.0]],\n",
       "  'text': 'আমি'},\n",
       " {'poly': [[51.0, 222.0], [89.0, 222.0], [89.0, 241.0], [51.0, 241.0]],\n",
       "  'text': 'কিন্তু'},\n",
       " {'poly': [[259.0, 201.0], [304.0, 201.0], [304.0, 215.0], [259.0, 215.0]],\n",
       "  'text': 'মনের'},\n",
       " {'poly': [[187.0, 199.0], [255.0, 199.0], [255.0, 216.0], [187.0, 216.0]],\n",
       "  'text': 'আপনার'},\n",
       " {'poly': [[70.0, 197.0], [139.0, 197.0], [139.0, 222.0], [70.0, 222.0]],\n",
       "  'text': 'খুঁজছেন,'},\n",
       " {'poly': [[12.0, 199.0], [67.0, 199.0], [67.0, 217.0], [12.0, 217.0]],\n",
       "  'text': 'ভাইকে'},\n",
       " {'poly': [[143.0, 198.0], [182.0, 196.0], [183.0, 216.0], [144.0, 218.0]],\n",
       "  'text': 'সেটা'},\n",
       " {'poly': [[13.0, 177.0], [75.0, 177.0], [75.0, 191.0], [13.0, 191.0]],\n",
       "  'text': 'আমাকে'},\n",
       " {'poly': [[217.0, 174.0], [286.0, 174.0], [286.0, 191.0], [217.0, 191.0]],\n",
       "  'text': 'আপনার'},\n",
       " {'poly': [[78.0, 171.0], [154.0, 173.0], [154.0, 194.0], [78.0, 192.0]],\n",
       "  'text': 'বলেছিল,'},\n",
       " {'poly': [[155.0, 173.0], [213.0, 171.0], [214.0, 192.0], [156.0, 194.0]],\n",
       "  'text': 'আপনি'},\n",
       " {'poly': [[250.0, 153.0], [305.0, 153.0], [305.0, 167.0], [250.0, 167.0]],\n",
       "  'text': 'ডাক্তার'},\n",
       " {'poly': [[192.0, 153.0], [243.0, 153.0], [243.0, 169.0], [192.0, 169.0]],\n",
       "  'text': 'ফেলে।'},\n",
       " {'poly': [[143.0, 153.0], [186.0, 153.0], [186.0, 168.0], [143.0, 168.0]],\n",
       "  'text': 'ওকে।'},\n",
       " {'poly': [[13.0, 153.0], [72.0, 153.0], [72.0, 167.0], [13.0, 167.0]],\n",
       "  'text': 'পালাতে'},\n",
       " {'poly': [[118.0, 151.0], [138.0, 151.0], [138.0, 168.0], [118.0, 168.0]],\n",
       "  'text': 'না'},\n",
       " {'poly': [[78.0, 149.0], [115.0, 149.0], [115.0, 168.0], [78.0, 168.0]],\n",
       "  'text': 'পারি'},\n",
       " {'poly': [[166.0, 129.0], [230.0, 129.0], [230.0, 143.0], [166.0, 143.0]],\n",
       "  'text': 'অপেক্ষা'},\n",
       " {'poly': [[97.0, 126.0], [163.0, 126.0], [163.0, 143.0], [97.0, 143.0]],\n",
       "  'text': 'হরিচরণ'},\n",
       " {'poly': [[56.0, 127.0], [95.0, 127.0], [95.0, 145.0], [56.0, 145.0]],\n",
       "  'text': 'আর'},\n",
       " {'poly': [[232.0, 126.0], [274.0, 126.0], [274.0, 144.0], [232.0, 144.0]],\n",
       "  'text': 'করি।'},\n",
       " {'poly': [[11.0, 125.0], [53.0, 125.0], [53.0, 144.0], [11.0, 144.0]],\n",
       "  'text': 'আমি'},\n",
       " {'poly': [[228.0, 105.0], [267.0, 105.0], [267.0, 120.0], [228.0, 120.0]],\n",
       "  'text': 'প্রায়।'},\n",
       " {'poly': [[165.0, 105.0], [222.0, 105.0], [222.0, 119.0], [165.0, 119.0]],\n",
       "  'text': 'শুনশান'},\n",
       " {'poly': [[11.0, 103.0], [47.0, 103.0], [47.0, 121.0], [11.0, 121.0]],\n",
       "  'text': 'আর'},\n",
       " {'poly': [[106.0, 102.0], [158.0, 102.0], [158.0, 120.0], [106.0, 120.0]],\n",
       "  'text': 'স্টেশন'},\n",
       " {'poly': [[49.0, 100.0], [102.0, 100.0], [102.0, 121.0], [49.0, 121.0]],\n",
       "  'text': 'সত্যিই'},\n",
       " {'poly': [[244.0, 81.0], [300.0, 81.0], [300.0, 95.0], [244.0, 95.0]],\n",
       "  'text': 'আলো।'},\n",
       " {'poly': [[191.0, 81.0], [238.0, 81.0], [238.0, 95.0], [191.0, 95.0]],\n",
       "  'text': 'সন্ধের'},\n",
       " {'poly': [[11.0, 80.0], [65.0, 80.0], [65.0, 97.0], [11.0, 97.0]],\n",
       "  'text': 'পাওয়া'},\n",
       " {'poly': [[66.0, 77.0], [188.0, 77.0], [188.0, 97.0], [66.0, 97.0]],\n",
       "  'text': 'বাড়িগুলোতেও'},\n",
       " {'poly': [[207.0, 57.0], [260.0, 57.0], [260.0, 71.0], [207.0, 71.0]],\n",
       "  'text': 'দেখতে'},\n",
       " {'poly': [[159.0, 57.0], [202.0, 57.0], [202.0, 72.0], [159.0, 72.0]],\n",
       "  'text': 'থেকে'},\n",
       " {'poly': [[129.0, 57.0], [154.0, 57.0], [154.0, 74.0], [129.0, 74.0]],\n",
       "  'text': 'দূর'},\n",
       " {'poly': [[12.0, 57.0], [53.0, 57.0], [53.0, 72.0], [12.0, 72.0]],\n",
       "  'text': 'গেছে'},\n",
       " {'poly': [[56.0, 53.0], [123.0, 55.0], [123.0, 73.0], [56.0, 71.0]],\n",
       "  'text': 'স্টেশনে।'},\n",
       " {'poly': [[237.0, 33.0], [278.0, 33.0], [278.0, 48.0], [237.0, 48.0]],\n",
       "  'text': 'জ্বলে'},\n",
       " {'poly': [[181.0, 32.0], [234.0, 32.0], [234.0, 49.0], [181.0, 49.0]],\n",
       "  'text': 'আলো'},\n",
       " {'poly': [[135.0, 31.0], [179.0, 31.0], [179.0, 49.0], [135.0, 49.0]],\n",
       "  'text': 'তখন'},\n",
       " {'poly': [[48.0, 31.0], [91.0, 31.0], [91.0, 49.0], [48.0, 49.0]],\n",
       "  'text': 'ছেড়ে'},\n",
       " {'poly': [[95.0, 28.0], [130.0, 30.0], [129.0, 49.0], [94.0, 47.0]],\n",
       "  'text': 'দিই।'},\n",
       " {'poly': [[11.0, 28.0], [46.0, 28.0], [46.0, 51.0], [11.0, 51.0]],\n",
       "  'text': 'ট্রেন'},\n",
       " {'poly': [[238.0, 8.0], [303.0, 8.0], [303.0, 25.0], [238.0, 25.0]],\n",
       "  'text': 'লোকাল'},\n",
       " {'poly': [[88.0, 9.0], [124.0, 9.0], [124.0, 24.0], [88.0, 24.0]],\n",
       "  'text': 'কথা'},\n",
       " {'poly': [[195.0, 6.0], [236.0, 6.0], [236.0, 29.0], [195.0, 29.0]],\n",
       "  'text': 'দুটো'},\n",
       " {'poly': [[166.0, 8.0], [193.0, 8.0], [193.0, 26.0], [166.0, 26.0]],\n",
       "  'text': 'না।'},\n",
       " {'poly': [[57.0, 8.0], [86.0, 8.0], [86.0, 24.0], [57.0, 24.0]],\n",
       "  'text': 'ওর'},\n",
       " {'poly': [[129.0, 6.0], [165.0, 6.0], [165.0, 25.0], [129.0, 25.0]],\n",
       "  'text': 'শুনি'},\n",
       " {'poly': [[11.0, 6.0], [53.0, 6.0], [53.0, 25.0], [11.0, 25.0]],\n",
       "  'text': 'আমি'}]"
      ]
     },
     "execution_count": 4,
     "metadata": {},
     "output_type": "execute_result"
    }
   ],
   "source": [
    "res"
   ]
  },
  {
   "cell_type": "code",
   "execution_count": null,
   "metadata": {},
   "outputs": [],
   "source": []
  }
 ],
 "metadata": {
  "kernelspec": {
   "display_name": "apsisocr",
   "language": "python",
   "name": "python3"
  },
  "language_info": {
   "codemirror_mode": {
    "name": "ipython",
    "version": 3
   },
   "file_extension": ".py",
   "mimetype": "text/x-python",
   "name": "python",
   "nbconvert_exporter": "python",
   "pygments_lexer": "ipython3",
   "version": "3.9.18"
  },
  "orig_nbformat": 4
 },
 "nbformat": 4,
 "nbformat_minor": 2
}
